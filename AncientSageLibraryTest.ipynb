{
 "cells": [
  {
   "cell_type": "code",
   "execution_count": null,
   "metadata": {
    "collapsed": false,
    "deletable": true,
    "editable": true
   },
   "outputs": [],
   "source": [
    "# This cell functions only because we have paid for CoCalc; unpaid accounts are not\n",
    "# able to access external resources via the Internet\n",
    "\n",
    "URL='https://raw.githubusercontent.com/jephianlin/mr_JG/master/zero_forcing_wavefront.pyx'"
   ]
  },
  {
   "cell_type": "code",
   "execution_count": null,
   "metadata": {
    "collapsed": false,
    "deletable": true,
    "editable": true
   },
   "outputs": [],
   "source": [
    "load(URL)"
   ]
  },
  {
   "cell_type": "code",
   "execution_count": null,
   "metadata": {
    "collapsed": false,
    "deletable": true,
    "editable": true
   },
   "outputs": [],
   "source": [
    "# Set up a test graph H and display it if possible\n",
    "#H = graphs.MycielskiGraph(4)\n",
    "#H = graphs.RobertsonGraph()\n",
    "#H = graphs.CoxeterGraph()\n",
    "#H = graphs.ClebschGraph()\n",
    "#H = graphs.BrinkmannGraph()\n",
    "#H = graphs.HeawoodGraph()\n",
    "#H = graphs.CirculantGraph(12,[2,3,4,6,-2,-3,-4])\n",
    "#H = graphs.HoffmanGraph().line_graph()\n",
    "H = graphs.CoxeterGraph().line_graph()\n",
    "H.relabel()\n",
    "H.show()\n",
    "\n",
    "print \"\\nThis graph has\", H.num_verts(), \"vertices\"\n",
    "print \"Longest shortest path possible:\", H.diameter()"
   ]
  },
  {
   "cell_type": "code",
   "execution_count": null,
   "metadata": {
    "collapsed": false,
    "deletable": true,
    "editable": true
   },
   "outputs": [],
   "source": [
    "%time zero_forcing_set_wavefront(H)"
   ]
  }
 ],
 "metadata": {
  "kernelspec": {
   "display_name": "SageMath 8.1",
   "language": "",
   "name": "sagemath"
  },
  "language_info": {
   "codemirror_mode": {
    "name": "ipython",
    "version": 2
   },
   "file_extension": ".py",
   "mimetype": "text/x-python",
   "name": "python",
   "nbconvert_exporter": "python",
   "pygments_lexer": "ipython2",
   "version": "2.7.14"
  }
 },
 "nbformat": 4,
 "nbformat_minor": 0
}
