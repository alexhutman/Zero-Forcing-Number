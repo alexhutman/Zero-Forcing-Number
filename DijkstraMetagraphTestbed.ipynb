{
 "cells": [
  {
   "cell_type": "code",
   "execution_count": null,
   "metadata": {
    "collapsed": false,
    "deletable": true,
    "editable": true,
    "scrolled": false
   },
   "outputs": [],
   "source": [
    "#load('ChainedList.py', 'ZFSearchMetagraphNewAlg.py', 'BFS.py','DijkstraMetagraph.py')\n",
    "#load('all_closures.pyx')\n",
    "load('DijkstraMetagraphPostClose.pyx', 'ZFSearchMetagraphNewAlgPostClose.pyx')"
   ]
  },
  {
   "cell_type": "code",
   "execution_count": null,
   "metadata": {
    "collapsed": false,
    "deletable": true,
    "editable": true,
    "scrolled": false
   },
   "outputs": [],
   "source": [
    "# Initialize a test graph and the associated ZFSearchMetagraph\n",
    "#H = graphs.CubeGraph(5); H.relabel()\n",
    "#H = graphs.PetersenGraph()\n",
    "#H = graphs.CoxeterGraph()       # DNF/DNF/1,284sec/339sec/220sec\n",
    "#H = graphs.RobertsonGraph()     # DNF\n",
    "#H = graphs.HeawoodGraph()       # 1.46/~1.20sec/1.03sec/0.22sec/0.16sec/0.12sec\n",
    "#H = graphs.BrinkmannGraph()     # DNF/DNF/66.5sec/43.3sec/29.81sec/25.97sec\n",
    "#H = graphs.HoffmanGraph()       # ~19sec/~13.7sec/2.57sec/2.00sec/1.6sec\n",
    "#H = graphs.ClebschGraph()       # DNF/36.3sec/12.8sec/7.8sec/6.7sec/4.8sec/4.22sec/2.90sec\n",
    "#H = graphs.DesarguesGraph()     # 14.56sec/8.00sec/5.6sec\n",
    "#H = graphs.DodecahedralGraph()  # ~25.9sec/~8.9sec/~4.2sec/3.02sec/2.90sec/2.12sec/1.07sec/0.80sec\n",
    "#H = graphs.HoffmanGraph().complement()\n",
    "#H = graphs.CompleteGraph(16)\n",
    "#H = graphs.MycielskiGraph(5)\n",
    "#H = graphs.RandomTree(22)\n",
    "#H = graphs.PathGraph(30)\n",
    "#H = graphs.StarGraph(4)\n",
    "#H = graphs.HoffmanGraph().line_graph()\n",
    "H = graphs.CoxeterGraph().line_graph()\n",
    "H.relabel()\n",
    "\n",
    "#d = {0: [1,2,4], 1: [0,2,5], 2: [0,1,3], 3: [2,4,5], 4: [0,3,5], 5: [1,3,4]}\n",
    "#H = Graph(d)\n",
    "\n",
    "if H.num_verts() < 50:\n",
    "    H.show()\n",
    "\n",
    "metaGraph = ZFSearchMetagraphNewAlg(H)\n",
    "#%time calculate_all_closures(H)"
   ]
  },
  {
   "cell_type": "code",
   "execution_count": null,
   "metadata": {
    "collapsed": false,
    "deletable": true,
    "editable": true,
    "scrolled": false
   },
   "outputs": [],
   "source": [
    "metaGraph = ZFSearchMetagraphNewAlg(H)\n",
    "#metaGraph = ZFSearchMetagraph(H)\n",
    "print \"\\n\"\n",
    "print \"This graph has\", H.num_verts(), \"vertices\"\n",
    "all_unfilled = frozenset([])\n",
    "all_filled = frozenset(range(H.num_verts()))\n",
    "\n",
    "%time output = dijkstra(metaGraph, all_unfilled, all_filled)\n",
    "\n",
    "print \" \"\n",
    "print \"Zero forcing number:\", len(output)\n",
    "print \"Zero forcing set:   \", set(output)"
   ]
  },
  {
   "cell_type": "code",
   "execution_count": null,
   "metadata": {
    "collapsed": true
   },
   "outputs": [],
   "source": []
  }
 ],
 "metadata": {
  "kernelspec": {
   "display_name": "SageMath 8.1",
   "language": "",
   "name": "sagemath"
  },
  "language_info": {
   "codemirror_mode": {
    "name": "ipython",
    "version": 2
   },
   "file_extension": ".py",
   "mimetype": "text/x-python",
   "name": "python",
   "nbconvert_exporter": "python",
   "pygments_lexer": "ipython2",
   "version": "2.7.14"
  }
 },
 "nbformat": 4,
 "nbformat_minor": 0
}
